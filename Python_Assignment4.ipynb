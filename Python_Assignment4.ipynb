{
 "cells": [
  {
   "cell_type": "code",
   "execution_count": 4,
   "metadata": {},
   "outputs": [
    {
     "name": "stdout",
     "output_type": "stream",
     "text": [
      "Enter the value of side 1: 5\n",
      "Enter the value of side 2: 6\n",
      "Enter the value of side 3: 7\n",
      "Area of the triangle 4.898979\n"
     ]
    }
   ],
   "source": [
    "class AreaOfTriangle:\n",
    "    def __init__(self,side1,side2,side3):\n",
    "        self.side1=side1\n",
    "        self.side2=side2\n",
    "        self.side3=side3\n",
    "    \n",
    "    def CalculateAreaOfTriangle(self):\n",
    "        s=(self.side1+self.side2+self.side3)/2\n",
    "        return ((s-self.side1)*(s-self.side2)*(s-self.side3))**0.5\n",
    "    \n",
    "a=float(input('Enter the value of side 1: '))\n",
    "b=float(input('Enter the value of side 2: '))\n",
    "c=float(input('Enter the value of side 3: '))\n",
    "result = AreaOfTriangle(a,b,c).CalculateAreaOfTriangle()\n",
    "print('Area of the triangle %f'% result)    "
   ]
  },
  {
   "cell_type": "code",
   "execution_count": 16,
   "metadata": {},
   "outputs": [
    {
     "data": {
      "text/plain": [
       "['enter', 'value', 'by vishnu']"
      ]
     },
     "execution_count": 16,
     "metadata": {},
     "output_type": "execute_result"
    }
   ],
   "source": [
    "def filter_long_words(args, integer):\n",
    "    wordlist=[]\n",
    "    for word in args:\n",
    "        if len(word)>integer:\n",
    "            wordlist.append(word)\n",
    "    return wordlist\n",
    "\n",
    "items = ['enter','the','value','of','side','by vishnu']\n",
    "\n",
    "filter_long_words(items, 4)"
   ]
  },
  {
   "cell_type": "code",
   "execution_count": 12,
   "metadata": {},
   "outputs": [
    {
     "name": "stdout",
     "output_type": "stream",
     "text": [
      "[2, 3, 4, 10]\n"
     ]
    }
   ],
   "source": [
    "items=['ab', 'cde','erty','1234567890']\n",
    "def lengthM(lst):\n",
    "    print([ len(x) for x in lst])       \n",
    "lengthM(items)"
   ]
  },
  {
   "cell_type": "code",
   "execution_count": 14,
   "metadata": {},
   "outputs": [
    {
     "name": "stdout",
     "output_type": "stream",
     "text": [
      "True\n",
      "False\n"
     ]
    }
   ],
   "source": [
    "def IsVowel(character):\n",
    "    vowels=['a','e','i','o','u']\n",
    "    if character in vowels:\n",
    "        return True\n",
    "    return False\n",
    "print(IsVowel('a'))\n",
    "print(IsVowel('b'))"
   ]
  }
 ],
 "metadata": {
  "kernelspec": {
   "display_name": "Python 3",
   "language": "python",
   "name": "python3"
  },
  "language_info": {
   "codemirror_mode": {
    "name": "ipython",
    "version": 3
   },
   "file_extension": ".py",
   "mimetype": "text/x-python",
   "name": "python",
   "nbconvert_exporter": "python",
   "pygments_lexer": "ipython3",
   "version": "3.6.8"
  }
 },
 "nbformat": 4,
 "nbformat_minor": 2
}
